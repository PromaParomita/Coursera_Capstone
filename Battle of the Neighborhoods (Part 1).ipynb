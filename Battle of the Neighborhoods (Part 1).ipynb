{
 "cells": [
  {
   "cell_type": "markdown",
   "metadata": {},
   "source": [
    "I am interested in comparing cities in the US based on museums. For example Ms Lily is interested in visiting museums. Therefore she does a thorough search on the web to find out which cities has the most museums in the US. She finds that New York City, Washington, San Francisco and Los Angeles have the most museums in the US. After further searching, she single out the neighborhoods with most museums; Downtown New York City, Upper Northwest Washington, Downtown San Francisco snd central Los Angeles.  Unfortunately, due to financial and time shortage she is unable to visit all the cities. Therefore she must choose which city she would visit. \n",
    "\n",
    "In order to help her make decision, foursquare location data would be used. First we would look at the museums in each city as it is her first priority. After looking into the museums, we would look into the nearby restuarants in the area for her to have lunch and dinner. Also we would look for nearby parks for her to take a break. Moreover, we would look into other nearby venues for her to visit. And lastly we would look into nearby affordable hotels for her to stay the night. We would choose a city and a neighborhood where she could enjoy museums and spend the day hassle free."
   ]
  }
 ],
 "metadata": {
  "kernelspec": {
   "display_name": "Python 3",
   "language": "python",
   "name": "python3"
  },
  "language_info": {
   "codemirror_mode": {
    "name": "ipython",
    "version": 3
   },
   "file_extension": ".py",
   "mimetype": "text/x-python",
   "name": "python",
   "nbconvert_exporter": "python",
   "pygments_lexer": "ipython3",
   "version": "3.8.2"
  }
 },
 "nbformat": 4,
 "nbformat_minor": 4
}
